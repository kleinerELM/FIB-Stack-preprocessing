{
 "cells": [
  {
   "cell_type": "markdown",
   "metadata": {},
   "source": [
    "# image alignment tests\n"
   ]
  },
  {
   "cell_type": "code",
   "execution_count": 1,
   "metadata": {
    "tags": []
   },
   "outputs": [],
   "source": [
    "import cv2\n",
    "import os\n",
    "import numpy as np\n",
    "import math\n",
    "import matplotlib.pyplot as plt\n",
    "import matplotlib.image as mpimg\n",
    "import napari\n",
    "\n",
    "from align import *"
   ]
  },
  {
   "cell_type": "code",
   "execution_count": 2,
   "metadata": {},
   "outputs": [],
   "source": [
    "folder='E:/2020_11_18 C3S 28d+EDX (2 Teile)/2020_11_19 C3S 28d+EDX/Images/SEM Image/'\n",
    "folder='E:/2020_11_18 C3S 28d+EDX (2 Teile)/2020_11_19 C3S 28d+EDX/Images/EDS/'\n",
    "folder='E:/2020_11_18 C3S 28d+EDX (2 Teile)/2020_11_19 C3S 28d+EDX/EDS Export/'\n",
    "#folder='E:/SEM Image/'\n",
    "folder='F:/2020_11_19 C3S 28d+EDX/EDS Export/'\n",
    "sem_folder='F:/2020_11_19 C3S 28d+EDX/Images/SEM Image/'"
   ]
  },
  {
   "cell_type": "code",
   "execution_count": 3,
   "metadata": {},
   "outputs": [
    {
     "output_type": "stream",
     "name": "stdout",
     "text": [
      "identified 14 elements\n"
     ]
    }
   ],
   "source": [
    "folder, eds_elements = check_folder_structure(folder)"
   ]
  },
  {
   "cell_type": "code",
   "execution_count": 4,
   "metadata": {
    "tags": []
   },
   "outputs": [
    {
     "output_type": "stream",
     "name": "stdout",
     "text": [
      "loading 80 images...\n",
      "((96000, 1000),)\n",
      "((96000, 1000),)\n",
      "  Image is an EDS image of the FIB process\n",
      "  26.943 x 26.943 nm/px\n",
      "\n",
      "Found existing translation csv, loading...\n",
      "Create 3D image stack with corrected image translation\n",
      "  - allocating 3D image space..\n",
      "  - translating and denoising images..\n",
      "saving images..\n",
      "saved \"F:/2020_11_19 C3S 28d+EDX/EDS Export/Images\\aligned\\aligned_stack_(80).tif\"\n",
      "sucessfull\n"
     ]
    }
   ],
   "source": [
    "sem_translation, error_list, filled_canvas, loaded_images, scaling = process_translation_of_folder(folder=folder, multicore=True, do_nlm=False, mask_size=0.99, eq_hist=True, crop_thresh=0 )\n",
    "\n",
    "im_cnt = len(loaded_images)\n",
    "z_scale=192\n",
    "\n",
    "scale=(z_scale, scaling['y'], scaling['x'])"
   ]
  },
  {
   "cell_type": "markdown",
   "metadata": {},
   "source": [
    "# add a shape and mark the top line of the cube"
   ]
  },
  {
   "cell_type": "code",
   "execution_count": 5,
   "metadata": {},
   "outputs": [],
   "source": []
  },
  {
   "cell_type": "markdown",
   "metadata": {},
   "source": [
    "### correction of the y-translation"
   ]
  },
  {
   "cell_type": "code",
   "execution_count": 6,
   "metadata": {},
   "outputs": [
    {
     "output_type": "stream",
     "name": "stdout",
     "text": [
      "Found existing translation csv, loading...\n"
     ]
    }
   ],
   "source": [
    "translation   = sem_translation.copy()\n",
    "\n",
    "translation_csv = folder + os.sep + 'translations_fixed_y.csv'\n",
    "fixed_translation = load_translation_csv( translation_csv, im_cnt )\n",
    "if len(fixed_translation) != im_cnt-1:\n",
    "    with napari.gui_qt():\n",
    "        viewer = napari.view_image(filled_canvas, name='select y correction line', scale=scale )\n",
    "\n",
    "    correction_dict = {}\n",
    "    for point in viewer.layers[1].data[0]:\n",
    "        correction_dict[math.floor(point[0])] = point[1]\n",
    "\n",
    "    y_correction_list = get_axis_correction_list( correction_dict, im_cnt )\n",
    "\n",
    "    for i, y in enumerate(y_correction_list):\n",
    "        # print(i, y, translation[i-1][1], translation[i-1][1] - y)\n",
    "        if i>0: translation[i-1][1] -= y\n",
    "    save_translation_csv( translation, translation_csv)\n",
    "else:\n",
    "    translation = fixed_translation"
   ]
  },
  {
   "cell_type": "markdown",
   "metadata": {},
   "source": [
    "### correction of the x-translation"
   ]
  },
  {
   "cell_type": "code",
   "execution_count": 7,
   "metadata": {},
   "outputs": [
    {
     "output_type": "stream",
     "name": "stdout",
     "text": [
      "Found existing translation csv, loading...\nCreate 3D image stack with corrected image translation\n  - allocating 3D image space..\n  - translating and denoising images..\n"
     ]
    }
   ],
   "source": [
    "translation_csv = folder + os.sep + 'translations_fixed_xy.csv'\n",
    "fixed_translation = load_translation_csv( translation_csv, im_cnt )\n",
    "if len(fixed_translation) != im_cnt-1:\n",
    "    corrected_images = create_3D_stack(translation, loaded_images, False)\n",
    "    with napari.gui_qt():\n",
    "        viewer = napari.view_image(corrected_images, name='select x correction line', scale=scale )\n",
    "        viewer.scale_bar.visible = True\n",
    "\n",
    "    correction_dict = {}\n",
    "    for point in viewer.layers[1].data[0]:\n",
    "        correction_dict[math.floor(point[0])] = point[0]\n",
    "\n",
    "    x_correction_list = get_axis_correction_list( correction_dict, z_slice_count )\n",
    "\n",
    "    for i, x in enumerate(x_correction_list):\n",
    "        # print(i, y, translation[i-1][2], translation[i-1][2] - x)\n",
    "        if i>0: translation[i-1][2] += x\n",
    "    save_translation_csv( translation, translation_csv)\n",
    "\n",
    "    # show final stack arrangement\n",
    "    corrected_sem_images = create_3D_stack(translation, loaded_images, False)\n",
    "    with napari.gui_qt():\n",
    "        viewer = napari.view_image(corrected_sem_images, name='test2', scale=scale)\n",
    "        viewer.scale_bar.visible = True\n",
    "else:\n",
    "    translation = fixed_translation\n",
    "    corrected_sem_images = create_3D_stack(translation, loaded_images, False)"
   ]
  },
  {
   "cell_type": "code",
   "execution_count": 8,
   "metadata": {},
   "outputs": [
    {
     "output_type": "execute_result",
     "data": {
      "text/plain": [
       "'\\nprint(round(len(loaded_images)/3), round(len(loaded_eds_images)/3))\\n\\n#1 get representative SEM image\\nimg_sem = loaded_images[19]\\n\\n#2 get same plane for a specific element EDS images\\nselected_element = \"Pt\"\\nfolder = eds_elements[selected_element]\\n_, loaded_eds_images = load_image_set(folder)\\nimg_pt  = loaded_eds_images[1]\\n\\nclahe = cv2.createCLAHE(clipLimit=3.0, tileGridSize=(1,1))\\n#3 get thresholded images of both images\\nimg_sem = cv2.GaussianBlur(clahe.apply(cv2.medianBlur(img_sem, 5)), (5, 5), cv2.BORDER_DEFAULT)\\nimg_pt  = cv2.GaussianBlur(clahe.apply(cv2.medianBlur(img_pt,  9)),  (15, 15), cv2.BORDER_DEFAULT)\\n\\n#_, img_sem_bin = cv2.threshold( clahe.apply(cv2.medianBlur(img_sem, 5)) , 125, 255, cv2.THRESH_BINARY)\\n#_, img_pt_bin  = cv2.threshold( clahe.apply(cv2.medianBlur(img_pt,  5)) ,  60, 255, cv2.THRESH_BINARY)\\n\\ncol = 2\\nrow = 1\\nfig=plt.figure(figsize=(col*5, row*5))\\nplt.subplots_adjust(top = 1, bottom = 0, right = 1, left = 0, \\n            hspace = 0, wspace = 0)\\n            \\nplt.margins(0,0)\\nplt.axis(\\'off\\')\\nfig.add_subplot(row, col, 1)\\n\\nplt.axis(\\'off\\')\\nplt.imshow(img_sem, cmap=\\'gray\\')\\n\\nfig.add_subplot(row, col, 2)\\nplt.axis(\\'off\\')\\nplt.imshow(img_pt, cmap=\\'gray\\')\\n\\nmask      = None\\nmask_full = None\\n\\n#4 get the translation of the repective images\\nget_image_translation(\\'asdf\\', img_sem, img_pt, mask, mask_full)\\n'"
      ]
     },
     "metadata": {},
     "execution_count": 8
    }
   ],
   "source": [
    "# sadly the automatic translation did not work\n",
    "\"\"\"\n",
    "print(round(len(loaded_images)/3), round(len(loaded_eds_images)/3))\n",
    "\n",
    "#1 get representative SEM image\n",
    "img_sem = loaded_images[19]\n",
    "\n",
    "#2 get same plane for a specific element EDS images\n",
    "selected_element = \"Pt\"\n",
    "folder = eds_elements[selected_element]\n",
    "_, loaded_eds_images = load_image_set(folder)\n",
    "img_pt  = loaded_eds_images[1]\n",
    "\n",
    "clahe = cv2.createCLAHE(clipLimit=3.0, tileGridSize=(1,1))\n",
    "#3 get thresholded images of both images\n",
    "img_sem = cv2.GaussianBlur(clahe.apply(cv2.medianBlur(img_sem, 5)), (5, 5), cv2.BORDER_DEFAULT)\n",
    "img_pt  = cv2.GaussianBlur(clahe.apply(cv2.medianBlur(img_pt,  9)),  (15, 15), cv2.BORDER_DEFAULT)\n",
    "\n",
    "#_, img_sem_bin = cv2.threshold( clahe.apply(cv2.medianBlur(img_sem, 5)) , 125, 255, cv2.THRESH_BINARY)\n",
    "#_, img_pt_bin  = cv2.threshold( clahe.apply(cv2.medianBlur(img_pt,  5)) ,  60, 255, cv2.THRESH_BINARY)\n",
    "\n",
    "col = 2\n",
    "row = 1\n",
    "fig=plt.figure(figsize=(col*5, row*5))\n",
    "plt.subplots_adjust(top = 1, bottom = 0, right = 1, left = 0, \n",
    "            hspace = 0, wspace = 0)\n",
    "            \n",
    "plt.margins(0,0)\n",
    "plt.axis('off')\n",
    "fig.add_subplot(row, col, 1)\n",
    "\n",
    "plt.axis('off')\n",
    "plt.imshow(img_sem, cmap='gray')\n",
    "\n",
    "fig.add_subplot(row, col, 2)\n",
    "plt.axis('off')\n",
    "plt.imshow(img_pt, cmap='gray')\n",
    "\n",
    "mask      = None\n",
    "mask_full = None\n",
    "\n",
    "#4 get the translation of the repective images\n",
    "get_image_translation('asdf', img_sem, img_pt, mask, mask_full)\n",
    "\"\"\""
   ]
  },
  {
   "cell_type": "code",
   "execution_count": 9,
   "metadata": {},
   "outputs": [
    {
     "output_type": "execute_result",
     "data": {
      "text/plain": [
       "\"\\ndef get_full_img_translation( translation, search_pos, verbose = False ):\\n    x_t = 0\\n    y_t = 0\\n    min_x = 0\\n    min_y = 0\\n    if verbose: print('~'*20)\\n    for pos, step in enumerate(translation):\\n        if verbose: print(pos, (step[2], step[1]), (x_t+step[2], y_t+step[1]))\\n        if pos <= search_pos:\\n            x_t += step[2]\\n            y_t += step[1]\\n        if pos==search_pos:\\n            if verbose: print('this translation', step)\\n        if min_x > step[2]: min_x = step[2]\\n        if min_y > step[1]: min_y = step[1]\\n\\n    return (min_x, x_t), (min_y, y_t)\\nprint( get_full_img_translation( translation, 17, True ) )\\n\""
      ]
     },
     "metadata": {},
     "execution_count": 9
    }
   ],
   "source": [
    "\"\"\"\n",
    "def get_full_img_translation( translation, search_pos, verbose = False ):\n",
    "    x_t = 0\n",
    "    y_t = 0\n",
    "    min_x = 0\n",
    "    min_y = 0\n",
    "    if verbose: print('~'*20)\n",
    "    for pos, step in enumerate(translation):\n",
    "        if verbose: print(pos, (step[2], step[1]), (x_t+step[2], y_t+step[1]))\n",
    "        if pos <= search_pos:\n",
    "            x_t += step[2]\n",
    "            y_t += step[1]\n",
    "        if pos==search_pos:\n",
    "            if verbose: print('this translation', step)\n",
    "        if min_x > step[2]: min_x = step[2]\n",
    "        if min_y > step[1]: min_y = step[1]\n",
    "\n",
    "    return (min_x, x_t), (min_y, y_t)\n",
    "print( get_full_img_translation( translation, 17, True ) )\n",
    "\"\"\""
   ]
  },
  {
   "cell_type": "markdown",
   "metadata": {},
   "source": [
    "## load EDS images"
   ]
  },
  {
   "cell_type": "code",
   "execution_count": 10,
   "metadata": {
    "tags": []
   },
   "outputs": [
    {
     "output_type": "stream",
     "name": "stdout",
     "text": [
      "ignoring Ag\n",
      "ignoring Al\n",
      "ignoring Ar\n",
      "--------------------\n",
      "selected element is C\n",
      "loading 80 images...\n",
      " Found multiple shapes!\n",
      "  found 17 images with this shape: (654, 565)\n",
      "  found 63 images with this shape: (624, 515)\n",
      "  - eds x translation: 404.8 - -132.3115293083519 + -65.33373174191244 \n",
      "  - eds y translation: 50.8 - -24.07718880962004 + -22.62759310139859 \n",
      "  - final translation 471.77779756643946 and 52.24959570822145\n",
      "1.4495957082214517\n",
      "['Elektronenbild 21.tif', 1.4495957082214526, 2.010848378460873]\n",
      " denoising images and enhance contrast\n",
      "Create 3D image stack with corrected image translation\n",
      "found first_x_offset: 471.77779756643946\n",
      "found first_y_offset: 52.24959570822145\n",
      "  - allocating 3D image space..\n",
      "  - translating and denoising images..\n",
      "ignoring Ca\n",
      "ignoring Cl\n",
      "ignoring Cu\n",
      "--------------------\n",
      "selected element is Ga\n",
      "loading 80 images...\n",
      " Found multiple shapes!\n",
      "  found 17 images with this shape: (654, 565)\n",
      "  found 63 images with this shape: (624, 515)\n",
      "  - eds x translation: 404.8 - -132.3115293083519 + -65.33373174191244 \n",
      "  - eds y translation: 50.8 - -24.07718880962004 + -22.62759310139859 \n",
      "  - final translation 471.77779756643946 and 52.24959570822145\n",
      "1.4495957082214517\n",
      "['Elektronenbild 21.tif', 1.4495957082214526, 2.010848378460873]\n",
      " denoising images and enhance contrast\n",
      "Create 3D image stack with corrected image translation\n",
      "found first_x_offset: 471.77779756643946\n",
      "found first_y_offset: 52.24959570822145\n",
      "  - allocating 3D image space..\n",
      "  - translating and denoising images..\n",
      "ignoring Lu\n",
      "ignoring Mg\n",
      "--------------------\n",
      "selected element is O\n",
      "loading 80 images...\n",
      " Found multiple shapes!\n",
      "  found 17 images with this shape: (654, 565)\n",
      "  found 63 images with this shape: (624, 515)\n",
      "  - eds x translation: 404.8 - -132.3115293083519 + -65.33373174191244 \n",
      "  - eds y translation: 50.8 - -24.07718880962004 + -22.62759310139859 \n",
      "  - final translation 471.77779756643946 and 52.24959570822145\n",
      "1.4495957082214517\n",
      "['Elektronenbild 21.tif', 1.4495957082214526, 2.010848378460873]\n",
      " denoising images and enhance contrast\n",
      "Create 3D image stack with corrected image translation\n",
      "found first_x_offset: 471.77779756643946\n",
      "found first_y_offset: 52.24959570822145\n",
      "  - allocating 3D image space..\n",
      "  - translating and denoising images..\n",
      "--------------------\n",
      "selected element is Pt\n",
      "loading 80 images...\n",
      " Found multiple shapes!\n",
      "  found 17 images with this shape: (654, 565)\n",
      "  found 63 images with this shape: (624, 515)\n",
      "  - eds x translation: 404.8 - -132.3115293083519 + -65.33373174191244 \n",
      "  - eds y translation: 50.8 - -24.07718880962004 + -22.62759310139859 \n",
      "  - final translation 471.77779756643946 and 52.24959570822145\n",
      "1.4495957082214517\n",
      "['Elektronenbild 21.tif', 1.4495957082214526, 2.010848378460873]\n",
      " denoising images and enhance contrast\n",
      "Create 3D image stack with corrected image translation\n",
      "found first_x_offset: 471.77779756643946\n",
      "found first_y_offset: 52.24959570822145\n",
      "  - allocating 3D image space..\n",
      "  - translating and denoising images..\n",
      "--------------------\n",
      "selected element is Si\n",
      "loading 80 images...\n",
      " Found multiple shapes!\n",
      "  found 17 images with this shape: (654, 565)\n",
      "  found 63 images with this shape: (624, 515)\n",
      "  - eds x translation: 404.8 - -132.3115293083519 + -65.33373174191244 \n",
      "  - eds y translation: 50.8 - -24.07718880962004 + -22.62759310139859 \n",
      "  - final translation 471.77779756643946 and 52.24959570822145\n",
      "1.4495957082214517\n",
      "['Elektronenbild 21.tif', 1.4495957082214526, 2.010848378460873]\n",
      " denoising images and enhance contrast\n",
      "Create 3D image stack with corrected image translation\n",
      "found first_x_offset: 471.77779756643946\n",
      "found first_y_offset: 52.24959570822145\n",
      "  - allocating 3D image space..\n",
      "  - translating and denoising images..\n",
      "ignoring Tb\n",
      "translate and display image stack using the following voxel dimensions: x=26.94, y=28.21, z=192.00 nm\n",
      "0 C\n",
      "1 Ga\n",
      "2 O\n",
      "3 Pt\n",
      "4 Si\n"
     ]
    }
   ],
   "source": [
    "eds_x_offset = 404.8#+22\n",
    "eds_y_offset = 50.8\n",
    "#expected_img_count = 63\n",
    "relevant_elements = ['Ga', 'Si', 'O', 'Pt', 'C']\n",
    "colormaps = [\"red\", \"green\", \"blue\", \"yellow\", \"magenta\"]\n",
    "\n",
    "if len(eds_elements) > 0:\n",
    "\n",
    "    scale=(z_scale, scaling['y'], scaling['x'])\n",
    "    image_stacks = {}\n",
    "    for element in eds_elements.keys():\n",
    "        if element in relevant_elements:\n",
    "            stack = process_element(eds_elements, element, translation, eds_x_offset, eds_y_offset)\n",
    "            if len(stack) != len(loaded_images):\n",
    "                print('Dataset for {} is incomplete ({} != {})'.format(element, len(stack), len(loaded_images)))\n",
    "            else:\n",
    "                image_stacks[element] = stack\n",
    "        else:\n",
    "            print('ignoring {}'.format(element))\n",
    "\n",
    "    # show image stacks\n",
    "    print('translate and display image stack using the following voxel dimensions: x={:.2f}, y={:.2f}, z={:.2f} {}'.format(scale[2], scale[1], scale[0], scaling['unit']))\n",
    "    #scale=(z_scale*eds_each_nth_slice, x_scale/math.cos(38), x_scale)\n",
    "    with napari.gui_qt():\n",
    "        viewer = napari.view_image(corrected_sem_images, name='SEM images', scale=scale)\n",
    "        for i, selected_element in enumerate(image_stacks):\n",
    "            print(i, selected_element)\n",
    "            new_layer = viewer.add_image(image_stacks[selected_element], name='EDS results for {}'.format(selected_element), scale=scale, colormap=colormaps[i], opacity=1, blending=\"additive\", rendering=\"iso\")\n",
    "        viewer.scale_bar.visible = True\n",
    "else:\n",
    "    print('no elements found')"
   ]
  },
  {
   "cell_type": "code",
   "execution_count": 25,
   "metadata": {
    "tags": []
   },
   "outputs": [
    {
     "output_type": "stream",
     "name": "stdout",
     "text": [
      "loading 672 images...\n",
      "\n",
      "trying to detect FEI scaling\n",
      "SEM image saved by an FEI / thermoScientific device - probaply created by FIB process\n",
      "Found existing translation csv, loading...\n",
      "Create 3D image stack with corrected image translation\n",
      "  - allocating 3D image space..\n",
      "  - translating and denoising images..\n",
      "saving images..\n",
      "saved \"F:/2020_11_19 C3S 28d+EDX/Images/SEM Image/aligned\\aligned_stack_(672).tif\"\n",
      "sucessfull\n",
      "672\n",
      "(19.2, 9.41609063976502, 8.993060000000002)\n"
     ]
    }
   ],
   "source": [
    "folder = sem_folder\n",
    "translation, error_list, filled_canvas, loaded_images, scaling = process_translation_of_folder(folder=folder, multicore=True, do_nlm=False, mask_size=0.99, eq_hist=True, crop_thresh=0 )\n",
    "print(len(loaded_images))\n",
    "\n",
    "im_cnt = len(loaded_images)\n",
    "z_scale=19.2\n",
    "scale=(z_scale, scaling['y'], scaling['x'])\n",
    "print(scale)"
   ]
  },
  {
   "cell_type": "code",
   "execution_count": 26,
   "metadata": {},
   "outputs": [],
   "source": [
    "redo_translation = False"
   ]
  },
  {
   "cell_type": "code",
   "execution_count": 27,
   "metadata": {
    "tags": [
     "outputPrepend"
    ]
   },
   "outputs": [
    {
     "output_type": "stream",
     "name": "stdout",
     "text": [
      "-0.31394031726714866 0.31342772265619123\n",
      "355 -0.6273680399233399 -1.0106449053707016 -0.3832768654473617\n",
      "356 -0.6273680399233399 0.36430817285289613 0.991676212776236\n",
      "357 -0.6273680399233399 0.22529582089074074 0.8526638608140806\n",
      "358 -0.6273680399233399 1.2466155388520024 1.8739835787753423\n",
      "359 -0.6273680399233399 0.4708566173483356 1.0982246572716754\n",
      "360 -0.6273680399233399 0.18838570717470593 0.8157537470980458\n",
      "361 -0.6273680399233399 -7.697969199314815 -7.070601159391475\n",
      "362 -0.6273680399233399 -0.8307530728763849 -0.203385032953045\n",
      "363 -0.6273680399233399 -1.06941703063821 -0.44204899071487014\n",
      "364 -0.6273680399233399 2.559778766351029 3.187146806274369\n",
      "365 -0.6273680399233399 0.2125217637514698 0.8398898036748097\n",
      "366 -0.627368039923283 0.7031734357202294 1.3305414756435123\n",
      "367 -0.6273680399233399 1.538922041300174 2.166290081223514\n",
      "368 -0.6273680399233399 -0.7712654847502413 -0.14389744482690137\n",
      "369 -0.6273680399233399 0.27382313065378294 0.9011911705771228\n",
      "370 -0.6273680399233399 0.2343402530406061 0.861708292963946\n",
      "371 -0.6273680399233399 -7.553240644966853 -6.925872605043513\n",
      "372 -0.6273680399233399 -2.087391432368419 -1.4600233924450792\n",
      "373 -0.627368039923283 0.8130560699201907 1.4404241098434738\n",
      "374 -0.6273680399233399 0.26184773867587424 0.8892157785992141\n",
      "375 -0.6273680399233399 0.08367473588450801 0.7110427758078479\n",
      "376 -0.6273680399233399 2.044275565876377 2.671643605799717\n",
      "377 -0.6273680399233399 1.1910149943518402 1.81838303427518\n",
      "378 -0.6273680399233399 1.6112015849738042 2.238569624897144\n",
      "379 -0.6273680399233399 -0.4232017003714369 0.204166339551903\n",
      "380 -0.6273680399233399 -0.09130689744534112 0.5360611424779987\n",
      "381 -0.6273680399233399 -17.32316588901978 -16.69579784909644\n",
      "382 -0.6273680399233399 1.303354431665957 1.930722471589297\n",
      "383 -0.6273680399233399 1.6895262956383352 2.316894335561675\n",
      "384 -0.6273680399233399 1.485730135446953 2.113098175370293\n",
      "385 -0.6273680399233399 -0.7171459364949964 -0.08977789657165647\n",
      "386 -0.6273680399233399 -0.34601965608542784 0.28134838383791205\n",
      "387 -0.627368039923283 1.1215449443003713 1.7489129842236544\n",
      "388 -0.6273680399233399 -0.09398188956009979 0.5333861503632401\n",
      "389 -0.6273680399233399 0.6589445554770688 1.2863125954004087\n",
      "390 -0.6273680399233399 -1.0533479376714294 -0.42597989774808953\n",
      "391 -0.6273680399233399 -7.011457762916193 -6.3840897229928535\n",
      "392 -0.6273680399233399 -2.640161579529532 -2.012793539606192\n",
      "393 -0.6273680399233399 -0.351229454859246 0.2761385850640939\n",
      "394 -0.6273680399233399 0.10986569907716208 0.7372337390005019\n",
      "395 -0.627368039923283 1.0432300498926235 1.6705980898159065\n",
      "396 -0.6273680399233399 -0.2627458840472692 0.3646221558760707\n",
      "397 -0.6273680399233399 0.15089316947870401 0.7782612094020439\n",
      "398 -0.6273680399233399 1.5579690008106746 2.1853370407340145\n",
      "399 -0.6273680399233399 -0.25265226518443223 0.37471577473890766\n",
      "400 -0.6273680399233399 3.7183643514525784 4.345732391375918\n",
      "401 -0.6273680399233399 -5.171920343162394 -4.544552303239054\n",
      "402 -0.6273680399233399 -1.297748047469591 -0.6703800075462512\n",
      "403 -0.6273680399233399 1.0437457837708233 1.6711138236941632\n",
      "404 -0.6273680399233399 0.7710768787634545 1.3984449186867944\n",
      "405 -0.6273680399233399 0.8508067947788887 1.4781748347022285\n",
      "406 -0.6273680399233399 1.0193608459685648 1.6467288858919047\n",
      "407 -0.6273680399233399 0.949456996300325 1.5768250362236649\n",
      "408 -0.627368039923283 1.8772054935523759 2.504573533475659\n",
      "409 -0.6273680399233399 0.0036465851152932332 0.6310146250386331\n",
      "410 -0.6273680399233399 1.2857733044162534 1.9131413443395933\n",
      "411 -0.6273680399233399 -7.71348836944033 -7.08612032951699\n",
      "412 -0.6273680399233399 -0.2917715272224431 0.3355965127008968\n",
      "413 -0.6273680399233399 -0.15662843724575926 0.47073960267758064\n",
      "414 -0.6273680399233399 0.6203681457017016 1.2477361856250415\n",
      "415 -0.627368039923283 1.0808269145462934 1.7081949544695765\n",
      "416 -0.6273680399233399 1.5280532793848418 2.1554213193081817\n",
      "417 -0.6273680399233399 -0.0394957633509962 0.5878722765723436\n",
      "418 -0.6273680399233399 -0.3566379696712691 0.2707300702520708\n",
      "419 -0.6273680399233399 0.1238348788627349 0.7512029187860748\n",
      "420 -0.6273680399233399 2.2028149949891516 2.8301830349124915\n",
      "421 -0.6273680399233399 -7.357256224306064 -6.729888184382724\n",
      "422 -0.6273680399233399 -2.162178685574735 -1.5348106456513952\n",
      "423 -0.6273680399233399 -1.596552886968468 -0.9691848470451281\n",
      "424 -0.6273680399233399 1.4286248181656058 2.0559928580889455\n",
      "425 -0.6273680399233399 0.08358519906130406 0.7109532389846439\n",
      "426 -0.6273680399233399 0.7506763254804575 1.3780443654037975\n",
      "427 -0.6273680399233399 -0.13205017164787886 0.49531786827546104\n",
      "428 -0.6273680399233399 -1.2429092722740174 -0.6155412323506775\n",
      "429 -0.6273680399233399 -0.29320006084514877 0.3341679790781911\n",
      "430 -0.6273680399233399 0.8091522598232413 1.4365202997465811\n",
      "431 -0.627368039923283 -4.389566140037812 -3.762198100114529\n",
      "432 -0.6273680399233399 -0.16362714063232686 0.46374089929101303\n",
      "433 -0.6273680399233399 -0.4614433212003876 0.16592471872295228\n",
      "434 -0.6273680399233399 0.12055656584539062 0.7479246057687305\n",
      "435 -0.6273680399233399 -1.9955259856515564 -1.3681579457282165\n",
      "436 -0.627368039923283 -0.4694422808186911 0.15792575910459195\n",
      "437 -0.6273680399233399 0.7395983881522915 1.3669664280756315\n",
      "438 -0.6273680399233399 -0.5100208790818277 0.1173471608415122\n",
      "439 -0.6273680399233399 0.22195102591789131 0.8493190658412312\n",
      "440 -0.6273680399233399 0.9200119286049826 1.5473799685283225\n",
      "441 -0.6273680399233399 -6.1491758342286635 -5.521807794305324\n",
      "442 -0.6273680399233399 -1.3294373274935083 -0.7020692875701684\n",
      "443 -0.6273680399233399 -1.14334658612123 -0.5159785461978901\n",
      "444 -0.6273680399233399 0.9070700550359658 1.5344380949593057\n",
      "445 -0.6273680399233399 1.7424462732290487 2.3698143131523883\n",
      "446 -0.6273680399233399 1.7980027689305316 2.4253708088538715\n",
      "447 -0.6273680399233399 -0.4008181023199686 0.22654993760337128\n",
      "448 -0.6273680399233399 0.47781525650039236 1.1051832964237323\n",
      "449 -0.6273680399233399 0.34086060759676395 0.9682286475201038\n",
      "450 -0.6273680399233399 -1.614141671703519 -0.9867736317801792\n",
      "451 -0.6273680399233399 -1.7990715220864448 -1.171703482163105\n",
      "452 -0.627368039923283 -2.521285320154122 -1.893917280230839\n",
      "453 -0.6273680399233399 2.186281462387011 2.813649502310351\n",
      "454 -0.6273680399233399 0.6368624525094049 1.2642304924327448\n",
      "455 -0.6273680399233399 0.10967566218629199 0.7370437021096319\n",
      "456 -0.6273680399233399 -0.528664991217282 0.09870304870605784\n",
      "457 -0.6273680399233399 -0.2293257159633022 0.3980423239600377\n",
      "458 -0.627368039923283 0.4378470678543197 1.0652151077776026\n",
      "459 -0.6273680399233399 0.2951962570144303 0.9225642969377702\n",
      "460 -0.6273680399233399 1.9183885168273909 2.5457565567507308\n",
      "461 -0.6273680399233399 -5.860592348067295 -5.233224308143955\n",
      "462 -0.6273680399233399 0.3143379332911713 0.9417059732145112\n",
      "463 -0.6273680399233399 -0.43769745809916943 0.18967058182417046\n",
      "464 -0.6273680399233399 -0.11540249557222948 0.5119655443511104\n",
      "465 -0.6273680399233399 -0.3341069625789283 0.2932610773444116\n",
      "466 -0.6273680399233399 0.29895576061194984 0.9263238005352897\n",
      "467 -0.6273680399233399 -1.529744219225176 -0.9023761793018361\n",
      "468 -0.6273680399233399 -0.011625066398745009 0.6157429735245948\n",
      "469 -0.6273680399233399 -0.1982508187281717 0.42911722119516815\n",
      "470 -0.6273680399233399 -0.07010463600020943 0.5572634039231305\n",
      "471 -0.6273680399233399 -6.585033645482656 -5.957665605559316\n",
      "472 -0.6273680399233399 -0.8670200605007643 -0.2396520205774244\n",
      "473 -0.627368039923283 1.5974356020413474 2.2248036419646304\n",
      "474 -0.6273680399233399 -0.6598505913028481 -0.03248255137950817\n",
      "475 -0.6273680399233399 0.29042078483967354 0.9177888247630135\n",
      "476 -0.6273680399233399 -0.5209588100618505 0.10640922986148937\n",
      "477 -0.6273680399233399 0.4939895094963349 1.1213575494196748\n",
      "478 -0.6273680399233399 -0.06276858961603583 0.5645994503073041\n",
      "479 -0.627368039923283 0.6001448118197386 1.2275128517430216\n",
      "480 -0.6273680399233399 -0.343063762105516 0.2843042778178239\n",
      "481 -0.6273680399233399 -5.857936516957223 -5.230568477033883\n",
      "482 -0.6273680399233399 -2.614370165749418 -1.987002125826078\n",
      "483 -0.6273680399233399 0.23279763570046114 0.860165675623801\n",
      "484 -0.6273680399233399 132.3562497733042 132.98361781322754\n",
      "485 -0.6273680399233399 -0.5630354030655895 0.06433263685775037\n",
      "486 -0.6273680399233399 2.3325832538696245 2.9599512937929644\n",
      "487 -0.6273680399233399 -0.35068364705666605 0.27668439286667385\n",
      "488 -0.6273680399233399 -1.6245106169786074 -0.9971425770552675\n",
      "489 -0.6273680399233399 -0.14169179886082964 0.4856762410625103\n",
      "490 -0.6273680399233115 -0.7818359535802734 -0.15446791365696189\n",
      "491 -0.6273680399233399 -10.003618624795848 -9.376250584872508\n",
      "492 -0.6273680399233399 -2.459193449271542 -1.8318254093482023\n",
      "493 -0.6273680399233399 0.8531902034532243 1.480558243376564\n",
      "494 -0.6273680399233399 -0.6343613348172931 -0.0069932948939531725\n",
      "495 -0.6273680399233115 -0.2679839690065812 0.35938407091673025\n",
      "496 -0.6273680399233399 0.2029136712686089 0.8302817111919488\n",
      "497 -0.6273680399233399 -0.0793682989931298 0.5479997409302101\n",
      "498 -0.6273680399233399 0.8595570382981873 1.4869250782215273\n",
      "499 -0.6273680399233399 0.21143731415597217 0.8388053540793121\n",
      "500 -0.6273680399233115 2.2130842975340235 2.840452337457335\n",
      "501 -0.6273680399233399 -1.311330600437654 -0.683962560514314\n",
      "502 -0.6273680399233399 -3.78053183702529 -3.15316379710195\n",
      "503 -0.6273680399233399 -0.38387299291340965 0.24349504700993024\n",
      "504 -0.6273680399233399 0.20117977332748863 0.8285478132508285\n",
      "505 -0.6273680399233115 -0.15076005848577465 0.4766079814375368\n",
      "506 -0.6273680399233399 0.4227261771746166 1.0500942170979566\n",
      "507 -0.6273680399233399 -0.20417944631185223 0.42318859361148764\n",
      "508 -0.6273680399233399 -0.45482898134041627 0.17253905858292362\n",
      "509 -0.6273680399233399 -0.9059578161602265 -0.27858977623688663\n",
      "510 -0.6273680399233399 0.16209871141491503 0.789466751338255\n",
      "511 -0.6273680399233115 -8.940287017374247 -8.312918977450936\n",
      "512 -0.6273680399233399 0.08039198746464715 0.707760027387987\n",
      "513 -0.6273680399233399 0.12070210354759903 0.7480701434709389\n",
      "514 -0.6273680399233399 -0.004906157189035365 0.6224618827343045\n",
      "515 -0.6273680399233399 -0.04454269841474744 0.5828253415085924\n",
      "516 -0.6273680399233115 0.3573774676121219 0.9847455075354334\n",
      "517 -0.6273680399233399 1.1034617797310373 1.7308298196543772\n",
      "518 -0.6273680399233399 0.17802624388668717 0.8053942838100271\n",
      "519 -0.6273680399233399 0.9200162649166376 1.5473843048399774\n",
      "520 -0.6273680399233399 0.1118699850982704 0.7392380250216103\n",
      "521 -0.6273680399233399 -7.573782446725667 -6.946414406802327\n",
      "522 -0.6273680399233115 -1.9509720726201214 -1.32360403269681\n",
      "523 -0.6273680399233399 -0.337808811713221 0.28955922821011887\n",
      "524 -0.6273680399233399 1.2859492871216325 1.9133173270449724\n",
      "525 -0.6273680399233399 1.214618384631554 1.8419864245548938\n",
      "526 -0.6273680399233399 -0.4122756406150858 0.21509239930825408\n",
      "527 -0.6273680399233115 0.0976940170289208 0.7250620569522322\n",
      "528 -0.6273680399233399 -0.2800358959025856 0.3473321440207543\n",
      "529 -0.6273680399233399 -0.22322588705280066 0.40414215287053923\n",
      "530 -0.6273680399233399 0.36321139081373066 0.9905794307370706\n",
      "531 -0.6273680399233399 -3.6643869799187874 -3.0370189399954475\n",
      "532 -0.6273680399233115 0.32258463288361366 0.9499526728069252\n",
      "533 -0.6273680399233399 1.0043425306851823 1.6317105706085222\n",
      "534 -0.6273680399233399 0.9764320927729427 1.6038001326962825\n",
      "535 -0.6273680399233399 -0.5059316818983048 0.12143635802503505\n",
      "536 -0.6273680399233399 0.1451241844483559 0.7724922243716958\n",
      "537 -0.6273680399233115 0.3187417498414449 0.9461097897647563\n",
      "538 -0.6273680399233399 -0.4082749529505111 0.2190930869728288\n",
      "539 -0.6273680399233399 0.49893141499418836 1.1262994549175283\n",
      "540 -0.6273680399233399 1.1809739287395824 1.8083419686629223\n",
      "541 -0.6273680399233399 -7.250503239346426 -6.6231351994230865\n",
      "542 -0.6273680399233399 0.28845637016153297 0.9158244100848729\n",
      "543 -0.6273680399233115 -2.0610866156603223 -1.4337185757370108\n",
      "544 -0.6273680399233399 0.16152124087520764 0.7888892807985475\n",
      "545 -0.6273680399233399 -0.056394532509032876 0.570973507414307\n",
      "546 -0.6273680399233399 2.312959636620068 2.940327676543408\n",
      "547 -0.6273680399233399 0.9105308126058279 1.537898852529168\n",
      "548 -0.6273680399233115 0.08185674894826209 0.7092247888715736\n",
      "549 -0.6273680399233399 -0.3289225236616023 0.2984455162617376\n",
      "550 -0.6273680399233399 -1.6488741475885094 -1.0215061076651695\n",
      "551 -0.6273680399233399 0.13101460385448682 0.7583826437778267\n",
      "552 -0.6273680399233399 0.44464638302411336 1.0720144229474533\n",
      "553 -0.6273680399233399 -0.33772223384788314 0.28964580607545676\n",
      "554 -0.6273680399233115 -0.1108527312607455 0.516515308662566\n",
      "555 -0.6273680399233399 0.5616213668941318 1.1889894068174716\n",
      "556 -0.6273680399233399 1.333017248038755 1.9603852879620949\n",
      "557 -0.6273680399233399 -0.2454836566504972 0.3818843832728427\n",
      "558 -0.6273680399233399 -0.7726113217445647 -0.1452432818212248\n",
      "559 -0.6273680399233115 -0.5217698281003686 0.10559821182294282\n",
      "560 -0.6273680399233399 0.3535178176349113 0.9808858575582512\n",
      "561 -0.6273680399233399 -4.978077976342961 -4.350709936419621\n",
      "562 -0.6273680399233399 0.06603851851974166 0.6934065584430815\n",
      "563 -0.6273680399233399 -0.9187226445586125 -0.29135460463527263\n",
      "564 -0.6273680399233115 -0.542328117654821 0.08503992226849044\n",
      "565 -0.6273680399233399 0.22309701941462798 0.8504650593379679\n",
      "566 -0.6273680399233399 1.2401675668222027 1.8675356067455426\n",
      "567 -0.6273680399233399 0.364069891225706 0.9914379311490459\n",
      "568 -0.6273680399233399 0.7517180509039147 1.3790860908272546\n",
      "569 -0.6273680399233115 -2.6874289259469157 -2.0600608860236043\n",
      "570 -0.6273680399233399 -0.27089827219228124 0.35646976773105865\n",
      "571 -0.6273680399233399 -6.442412530628561 -5.815044490705221\n",
      "572 -0.6273680399233399 0.06705523330077108 0.694423273224111\n",
      "573 -0.6273680399233399 -1.9678149592471148 -1.340446919323775\n",
      "574 -0.6273680399233399 -0.8140693290924015 -0.1867012891690616\n",
      "575 -0.6273680399233399 -0.14162831305370852 0.4857397268696314\n",
      "576 -1.847443521819656 0.13134628868901754 1.9787898105086736\n",
      "577 -1.847443521819656 -0.871734435429617 0.9757090863900391\n",
      "578 -1.847443521819656 -0.6428442195634679 1.204599302256188\n",
      "579 -1.847443521819656 -0.014009811456827037 1.833433710362829\n",
      "580 -1.847443521819656 -0.29988651753825213 1.547557004281404\n",
      "581 -1.847443521819656 -6.90638801286123 -5.058944491041574\n",
      "582 -1.847443521819656 -0.14762915918402483 1.6998143626356312\n",
      "583 -1.847443521819656 -0.8150254150541475 1.0324181067655087\n",
      "584 -1.847443521819656 -1.9164938821585253 -0.06905036033886924\n",
      "585 -1.847443521819656 -1.318825406851743 0.528618114967913\n",
      "586 -1.847443521819656 0.8289208126445743 2.6763643344642305\n",
      "587 -1.847443521819656 -2.677251339773947 -0.8298078179542907\n",
      "588 -1.847443521819656 0.9296514565259066 2.7770949783455627\n",
      "589 -1.847443521819656 0.34746298612357407 2.19490650794323\n",
      "590 -1.847443521819656 -0.6326990540687574 1.2147444677508987\n",
      "591 -1.847443521819656 -2.397933329069417 -0.550489807249761\n",
      "592 -1.847443521819656 -3.305072106289062 -1.457628584469406\n",
      "593 -1.847443521819656 -0.6921219645097604 1.1553215573098958\n",
      "594 -1.8474435218196277 1.6916040028963004 3.539047524715928\n",
      "595 -1.8474435218196845 1.0853405407426024 2.9327840625622867\n",
      "596 -1.8474435218196277 0.016947750309364237 1.864391272128992\n",
      "597 -1.8474435218196845 -1.913684759432375 -0.0662412376126904\n",
      "598 -1.8474435218196277 1.7963413443776763 3.6437848661973042\n",
      "599 -1.8474435218196845 -0.5577948208250711 1.2896487009946134\n",
      "600 -1.8474435218196277 0.8051197572484676 2.6525632790680955\n",
      "601 -1.8474435218196845 -7.549818733886437 -5.702375212066753\n",
      "602 -1.8474435218196277 -0.44110614403723836 1.4063373777823893\n",
      "603 -1.847443521819656 0.7658527782377587 2.6132963000574145\n",
      "604 -1.847443521819656 -2.447417083896402 -0.5999735620767459\n",
      "605 -1.847443521819656 -2.086266801035949 -0.23882327921629276\n",
      "606 -1.847443521819656 -0.18618020479660957 1.6612633170230464\n",
      "607 -1.847443521819656 -3.1223379230191863 -1.2748944011995302\n",
      "608 -1.847443521819656 -0.3344558774763373 1.5129876443433188\n",
      "609 -1.847443521819656 0.79805115222601 2.645494674045666\n",
      "610 -1.847443521819656 -0.17793985820538802 1.6695036636142682\n",
      "611 -1.847443521819656 -7.091379191522798 -5.243935669703142\n",
      "612 -1.847443521819656 0.03277675358234977 1.8802202754020059\n",
      "613 -1.847443521819656 -0.362406048669911 1.485037473149745\n",
      "614 -1.847443521819656 0.7000904213793079 2.547533943198964\n",
      "615 -1.847443521819656 0.07884631400172612 1.9262898358213822\n",
      "616 -1.847443521819656 0.24804240369370556 2.0954859255133615\n",
      "617 -1.847443521819656 -0.09497370410027871 1.7524698177193774\n",
      "618 -1.847443521819656 0.13169264931819022 1.9791361711378463\n",
      "619 -1.847443521819656 0.8917135707947623 2.7391570926144184\n",
      "620 -1.847443521819656 0.15332919326323072 2.0007727150828867\n",
      "621 -1.847443521819656 -8.7945451364794 -6.9471016146597435\n",
      "622 -1.847443521819656 -0.13252846029638687 1.7149150615232691\n",
      "623 -2.238280462435725 -0.12365863119370721 2.1146218312420175\n",
      "624 -2.238280462435725 -0.7704966459306658 1.467783816505059\n",
      "625 -2.2382804624357107 0.47343251246984375 2.7117129749055544\n",
      "626 -2.238280462435725 0.7779556028503238 3.0162360652860487\n",
      "627 -2.238280462435725 -1.7661464885387532 0.47213397389697165\n",
      "628 -2.238280462435725 1.4734945680514304 3.7117750304871553\n",
      "629 -2.238280462435725 -0.4950744538763384 1.7432060085593863\n",
      "630 -2.2382804624357107 0.2618387107354203 2.500119173171131\n",
      "631 -2.238280462435725 -4.548546309251564 -2.310265846815839\n",
      "632 -2.238280462435725 0.27065200376915094 2.5089324662048758\n",
      "633 -2.238280462435725 -0.44041547309034895 1.797864989345376\n",
      "634 -2.238280462435725 2.8883591078808264 5.126639570316551\n",
      "635 -2.2382804624357107 0.35952208188021784 2.5978025443159285\n",
      "636 -2.238280462435739 -1.5905046176727604 0.6477758447629787\n",
      "637 -2.2382804624357107 -0.8089010818589957 1.429379380576715\n",
      "638 -2.238280462435725 -2.0552181890930767 0.18306227334264813\n",
      "639 -2.238280462435725 -1.822454407158146 0.41582605527757877\n",
      "640 -2.2382804624357107 -0.892682730779076 1.3455977316566345\n",
      "641 -2.238280462435739 -5.021785232692485 -2.783504770256746\n",
      "642 -2.2382804624357107 0.416371197760382 2.6546516601960928\n",
      "643 -2.238280462435725 -0.759674307483054 1.4786061549526708\n",
      "644 -2.238280462435725 0.9006226130349566 3.1389030754706813\n",
      "645 -2.2382804624357178 0.31181860304984305 2.550099065485561\n",
      "646 -2.238280462435725 0.17958839011136898 2.4178688525470937\n",
      "647 -2.238280462435725 0.3570093212738932 2.5952897837096183\n",
      "648 -2.2382804624357178 0.26926368578915916 2.507544148224877\n",
      "649 -2.238280462435725 -3.4777059394870182 -1.2394254770512934\n",
      "650 -2.238280462435725 -0.09410582427869016 2.144174638157035\n",
      "651 -2.238280462435725 -5.308282176207818 -3.0700017137720934\n",
      "652 -2.2382804624357107 0.22264410923992103 2.4609245716756316\n",
      "653 -2.238280462435725 -0.45056708766933307 1.7877133747663918\n",
      "654 -2.238280462435725 0.12354198856478091 2.361822451000506\n",
      "655 -2.238280462435725 -0.34706888003876907 1.8912115823969557\n",
      "656 -2.238280462435725 0.3726734351005697 2.6109538975362945\n",
      "657 -2.2382804624357107 1.2495363441015155 3.487816806537226\n",
      "658 -2.238280462435725 -0.5276347430756173 1.7106457193601075\n",
      "659 -2.238280462435725 1.0501304993355172 3.288410961771242\n",
      "660 -2.238280462435725 0.08429467928143843 2.3225751417171634\n",
      "661 -2.238280462435725 -3.3179281800171276 -1.0796477175814028\n",
      "662 -2.2382804624357107 -0.7885058299282691 1.4497746325074417\n",
      "663 -2.238280462435725 0.3301330816292763 2.568413544065001\n",
      "664 -2.238280462435725 -0.6707929192709005 1.5674875431648245\n",
      "665 -2.238280462435725 1.6343601011874647 3.8726405636231895\n",
      "666 -2.238280462435725 3.0570270170470013 5.295307479482727\n",
      "667 -2.238280462435725 0.4425397178185946 2.6808201802543197\n",
      "668 -2.2382804624357107 -1.3337381281897336 0.9045423342459771\n",
      "669 -2.238280462435725 -0.07769761337155215 2.1605828490641725\n",
      "670 -2.238280462435725 1.077815785872109 3.316096248307834\n",
      "671 -2.238280462435725 -2.5196335131303544 -0.28135305069462957\n",
      "saving translation matrix to F:/2020_11_19 C3S 28d+EDX/Images/SEM Image/\\translations_fixed_y.csv\n",
      "saved F:/2020_11_19 C3S 28d+EDX/Images/SEM Image/\\translations_fixed_y.csv\n"
     ]
    }
   ],
   "source": [
    "translation_csv = folder + os.sep + 'translations_fixed_y.csv'\n",
    "fixed_translation = load_translation_csv( translation_csv, im_cnt )\n",
    "if (len(fixed_translation) != im_cnt-1 or redo_translation):\n",
    "    normed_scale = scale#(1, 1, 1)\n",
    "    with napari.gui_qt():\n",
    "        viewer = napari.view_image(filled_canvas, name='select y correction line', scale=normed_scale )\n",
    "\n",
    "    correction_dict = {}\n",
    "    for point in viewer.layers[1].data[0]:\n",
    "        correction_dict[math.floor(point[0])] = point[1]\n",
    "\n",
    "    y_correction_list = get_axis_correction_list( correction_dict, im_cnt )\n",
    "\n",
    "    for i, y in enumerate(y_correction_list):\n",
    "        #print(i, y, translation[i-1][1], translation[i-1][1] - y)\n",
    "        if i>0: translation[i-1][1] -= y\n",
    "    save_translation_csv( translation, translation_csv)\n",
    "else:\n",
    "    translation = fixed_translation"
   ]
  },
  {
   "cell_type": "code",
   "execution_count": 28,
   "metadata": {},
   "outputs": [
    {
     "output_type": "stream",
     "name": "stdout",
     "text": [
      "Found existing translation csv, loading...\n",
      "Create 3D image stack with corrected image translation\n",
      "  - allocating 3D image space..\n",
      "  - translating and denoising images..\n",
      "saving translation matrix to F:/2020_11_19 C3S 28d+EDX/Images/SEM Image/\\translations_fixed_xy.csv\n",
      "saved F:/2020_11_19 C3S 28d+EDX/Images/SEM Image/\\translations_fixed_xy.csv\n",
      "Create 3D image stack with corrected image translation\n",
      "  - allocating 3D image space..\n",
      "  - translating and denoising images..\n"
     ]
    }
   ],
   "source": [
    "translation_csv = folder + os.sep + 'translations_fixed_xy.csv'\n",
    "fixed_translation = load_translation_csv( translation_csv, im_cnt )\n",
    "if (len(fixed_translation) != im_cnt-1 or redo_translation):\n",
    "    normed_scale = scale#(1, 1, 1)\n",
    "    corrected_images = create_3D_stack(translation, loaded_images, False)\n",
    "    with napari.gui_qt():\n",
    "        viewer = napari.view_image(corrected_images, name='select x correction line', scale=normed_scale )\n",
    "        viewer.scale_bar.visible = True\n",
    "\n",
    "    correction_dict = {}\n",
    "    for point in viewer.layers[1].data[0]:\n",
    "        correction_dict[math.floor(point[0])] = point[0]\n",
    "\n",
    "    x_correction_list = get_axis_correction_list( correction_dict, z_slice_count )\n",
    "\n",
    "    for i, x in enumerate(x_correction_list):\n",
    "        # print(i, x, translation[i-1][2], translation[i-1][2] - x)\n",
    "        if i>0: translation[i-1][2] += x\n",
    "    save_translation_csv( translation, translation_csv)\n",
    "\n",
    "    \n",
    "else:\n",
    "    translation = fixed_translation\n"
   ]
  },
  {
   "cell_type": "code",
   "execution_count": 30,
   "metadata": {},
   "outputs": [
    {
     "output_type": "stream",
     "name": "stdout",
     "text": [
      "Create 3D image stack with corrected image translation\n  - allocating 3D image space..\n  - translating and denoising images..\n"
     ]
    }
   ],
   "source": [
    "\n",
    "\n",
    "# preprocess the raw eds images - denoising, contrast enhancing and segmentation\n",
    "clahe = cv2.createCLAHE(clipLimit=2.0, tileGridSize=(1,1))\n",
    "def preprocess_sem_image(img):\n",
    "    tmp = clahe.apply(cv2.medianBlur(img, 9))\n",
    "\n",
    "    return clahe.apply( tmp )\n",
    "    \n",
    "for i, img in enumerate(loaded_images):\n",
    "    loaded_images[i] = preprocess_sem_image(img)\n",
    "\n",
    "\n",
    "# final stack arrangement\n",
    "corrected_sem_images = create_3D_stack(translation, loaded_images, False)"
   ]
  },
  {
   "cell_type": "code",
   "execution_count": 31,
   "metadata": {},
   "outputs": [
    {
     "output_type": "stream",
     "name": "stdout",
     "text": [
      "(19.2, 9.41609063976502, 8.993060000000002)\n",
      "C:\\Users\\ELM\\AppData\\Roaming\\Python\\Python38\\site-packages\\napari\\_vispy\\vispy_image_layer.py:204: UserWarning: data shape (672, 2314, 2118) exceeds GL_MAX_TEXTURE_SIZE 2048 in at least one axis and will be downsampled. Rendering is currently in 3D mode.\n",
      "  warnings.warn(\n"
     ]
    }
   ],
   "source": [
    "print(scale)\n",
    "with napari.gui_qt():\n",
    "    viewer = napari.view_image(corrected_sem_images, name='high resolution stack', scale=scale)\n",
    "    viewer.scale_bar.visible = True"
   ]
  },
  {
   "source": [
    "refFilename = \"SEM Image - SliceImage - 001.tif\"\n",
    "print(\"Reading reference image : \", refFilename)\n",
    "im_a = cv2.imread(refFilename, cv2.IMREAD_GRAYSCALE)\n",
    "print(im_a.shape)"
   ],
   "cell_type": "markdown",
   "metadata": {}
  },
  {
   "source": [
    "# Read image to be aligned\n",
    "imFilename = \"SEM Image - SliceImage - 003.tif\"\n",
    "print(\"Reading image to align : \", imFilename);  \n",
    "im_b = cv2.imread(imFilename, cv2.IMREAD_GRAYSCALE)\n",
    "print(im_b.shape)\n"
   ],
   "cell_type": "markdown",
   "metadata": {}
  },
  {
   "source": [
    "#im_a_denoised = im_a#denoiseNLMCV2( im_a )\n",
    "#im_b_denoised = im_b#denoiseNLMCV2( im_b )\n",
    "gauss_kernel = (3, 3)\n",
    "im_a_denoised = cv2.GaussianBlur(im_a, gauss_kernel, cv2.BORDER_DEFAULT)\n",
    "im_b_denoised = cv2.GaussianBlur(im_b, gauss_kernel, cv2.BORDER_DEFAULT)\n",
    "\n",
    "mask = get_centered_mask(im_a, mask_size = 0.75)\n",
    "masked_im_a = cv2.bitwise_and(im_a_denoised, im_a_denoised, mask = mask)\n",
    "masked_im_b = cv2.bitwise_and(im_b_denoised, im_b_denoised, mask = mask)\n",
    "\n",
    "\n",
    "#fig=plt.figure(figsize=(col*5, row*5))\n",
    "#plt.imshow(im_b, cmap='gray')"
   ],
   "cell_type": "markdown",
   "metadata": {}
  },
  {
   "source": [
    "col = 2\n",
    "row = 3\n",
    "fig=plt.figure(figsize=(col*5, row*5))\n",
    "plt.subplots_adjust(top = 1, bottom = 0, right = 1, left = 0, \n",
    "            hspace = 0, wspace = 0)\n",
    "            \n",
    "plt.margins(0,0)\n",
    "plt.axis('off')\n",
    "fig.add_subplot(row, col, 1)\n",
    "plt.axis('off')\n",
    "plt.imshow(im_a, cmap='gray')\n",
    "fig.add_subplot(row, col, 2)\n",
    "plt.axis('off')\n",
    "plt.imshow(im_b, cmap='gray')\n",
    "fig.add_subplot(row, col, 3)\n",
    "plt.axis('off')\n",
    "plt.imshow(im_a_denoised, cmap='gray')\n",
    "fig.add_subplot(row, col, 4)\n",
    "plt.axis('off')\n",
    "plt.imshow(im_b_denoised, cmap='gray')\n",
    "fig.add_subplot(row, col, 5)\n",
    "plt.axis('off')\n",
    "plt.imshow(masked_im_a, cmap='gray')\n",
    "fig.add_subplot(row, col, 6)\n",
    "plt.axis('off')\n",
    "plt.imshow(masked_im_b, cmap='gray')"
   ],
   "cell_type": "markdown",
   "metadata": {}
  },
  {
   "source": [
    "# Registered image will be resotred in imReg. \n",
    "# The estimated homography will be stored in h. \n",
    "print(im_b_denoised.shape)\n",
    "imReg, h = alignImages(im_b_denoised, im_a_denoised, mask=mask)\n",
    "print(imReg.shape)\n"
   ],
   "cell_type": "markdown",
   "metadata": {
    "tags": [
     "outputPrepend"
    ]
   }
  },
  {
   "source": [
    "fig=plt.figure(figsize=(10, 10))\n",
    "plt.imshow(imReg, cmap='gray')"
   ],
   "cell_type": "markdown",
   "metadata": {}
  },
  {
   "source": [
    "\n",
    "t_x = h[0,2]\n",
    "t_y = h[1,2]\n",
    "# only extract x and y movement\n",
    "# https://stackoverflow.com/questions/25658443/calculating-scale-rotation-and-translation-from-homography-matrix\n",
    "h_new=np.array([[1,0,t_x],[0,1,t_y],[0,0,1]])\n",
    "print(math.ceil(t_x),math.ceil(t_y))\n",
    "# Use homography\n",
    "height, width = im_b_denoised.shape\n",
    "im1Reg = cv2.warpPerspective(im_b_denoised, h_new, (math.ceil(width+t_x), math.ceil(height+t_y)))\n",
    "print(im1Reg.shape)"
   ],
   "cell_type": "markdown",
   "metadata": {}
  },
  {
   "source": [
    "fig=plt.figure(figsize=(10, 10))\n",
    "plt.imshow(im1Reg, cmap='gray')"
   ],
   "cell_type": "markdown",
   "metadata": {}
  },
  {
   "source": [
    "immatches = cv2.imread('matches.tif', cv2.IMREAD_COLOR)\n",
    "fig=plt.figure(figsize=(10 , 5))\n",
    "plt.imshow(immatches)"
   ],
   "cell_type": "markdown",
   "metadata": {}
  },
  {
   "source": [
    "# Write aligned image to disk. \n",
    "outFilename = \"aligned.tif\"\n",
    "print(\"Saving aligned image : \", outFilename); \n",
    "cv2.imwrite(outFilename, imReg)"
   ],
   "cell_type": "markdown",
   "metadata": {}
  },
  {
   "source": [],
   "cell_type": "markdown",
   "metadata": {}
  }
 ],
 "metadata": {
  "kernelspec": {
   "name": "python385jvsc74a57bd01baa965d5efe3ac65b79dfc60c0d706280b1da80fedb7760faf2759126c4f253",
   "display_name": "Python 3.8.5 64-bit"
  },
  "language_info": {
   "codemirror_mode": {
    "name": "ipython",
    "version": 3
   },
   "file_extension": ".py",
   "mimetype": "text/x-python",
   "name": "python",
   "nbconvert_exporter": "python",
   "pygments_lexer": "ipython3",
   "version": "3.8.5"
  },
  "metadata": {
   "interpreter": {
    "hash": "1baa965d5efe3ac65b79dfc60c0d706280b1da80fedb7760faf2759126c4f253"
   }
  }
 },
 "nbformat": 4,
 "nbformat_minor": 2
}